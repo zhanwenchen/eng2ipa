{
 "cells": [
  {
   "cell_type": "markdown",
   "metadata": {
    "collapsed": true
   },
   "source": [
    "# Language Translation\n",
    "Two approaches:\n",
    "1. Per Word: Hello -> /he'lo/ (X)\n",
    "2. Per Char. H e l l o -> h e l o\n",
    "\n",
    "In this project, you’re going to take a peek into the realm of neural network machine translation.  You’ll be training a sequence to sequence model on a dataset of English and French sentences that can translate new sentences from English to French.\n",
    "## Get the Data\n",
    "Since translating the whole language of English to French will take lots of time to train, we have provided you with a small portion of the English corpus."
   ]
  },
  {
   "cell_type": "code",
   "execution_count": 1,
   "metadata": {},
   "outputs": [
    {
     "name": "stderr",
     "output_type": "stream",
     "text": [
      "/home/chenz28/miniconda3/lib/python3.6/site-packages/h5py/__init__.py:36: FutureWarning: Conversion of the second argument of issubdtype from `float` to `np.floating` is deprecated. In future, it will be treated as `np.float64 == np.dtype(float).type`.\n",
      "  from ._conv import register_converters as _register_converters\n"
     ]
    }
   ],
   "source": [
    "import pandas as pd\n",
    "import os\n",
    "\n",
    "\n",
    "import helper\n",
    "import problem_unittests as tests\n",
    "\n",
    "\n",
    "# remove current model\n",
    "try:\n",
    "    os.remove('preprocess.p')\n",
    "except OSError:\n",
    "    pass\n"
   ]
  },
  {
   "cell_type": "code",
   "execution_count": 2,
   "metadata": {},
   "outputs": [
    {
     "name": "stdout",
     "output_type": "stream",
     "text": [
      "a\n",
      "a(1)\n",
      "a's\n",
      "a.\n",
      "a.'s\n",
      "a.s\n",
      "a42128\n",
      "aaa\n",
      "aaberg\n",
      "aachen\n",
      "aachener\n",
      "aaker\n",
      "aalseth\n",
      "aamodt\n",
      "aancor\n",
      "aardema\n",
      "aardvar\n",
      "ʌ\n",
      "ejˈ\n",
      "ejˈz\n",
      "ejˈ\n",
      "ejˈz\n",
      "ejˈz\n",
      "ejˈfɔˈɹtuˈwʌˈntuˈejˈt\n",
      "tɹɪˌpʌlejˈ\n",
      "ɑˈbɚg\n",
      "ɑˈkʌn\n",
      "ɑˈkʌnɚ\n",
      "ɑˈkɚ\n",
      "ɑˈlsɛθ\n",
      "ɑˈmʌt\n",
      "ɑˈnkɔ\n"
     ]
    }
   ],
   "source": [
    "df_path = 'data/no_tabs.csv'\n",
    "\n",
    "df = pd.read_csv(df_path, header=None, names = ['English', 'IPA'])\n",
    "\n",
    "source_text = df['English'].tolist()\n",
    "target_text = df['IPA'].tolist()\n",
    "source_text = '\\n'.join(str(item) for item in source_text)\n",
    "target_text = '\\n'.join(str(item) for item in target_text)\n",
    "print(source_text[0:10])\n",
    "print(target_text[0:10])\n",
    "source_text = \"\\n\".join([\" \".join(line) for line in source_text.split(\"\\n\")])\n",
    "target_text = \"\\n\".join([\" \".join(line) for line in target_text.split(\"\\n\")])"
   ]
  },
  {
   "cell_type": "markdown",
   "metadata": {},
   "source": [
    "## Explore the Data\n",
    "Play around with view_sentence_range to view different parts of the data."
   ]
  },
  {
   "cell_type": "code",
   "execution_count": 3,
   "metadata": {},
   "outputs": [
    {
     "name": "stdout",
     "output_type": "stream",
     "text": [
      "Dataset Stats\n",
      "Roughly the number of unique words: 42\n",
      "the source vocabulary is {'1', 's', 'd', '(', 'g', \"'\", 'v', '8', 'c', '0', 'x', 'k', 'w', 'p', 'y', '7', '5', '6', 'e', 'l', 'i', ' ', '-', '9', '3', 't', 'n', 'a', '2', ')', 'b', 'z', '.', 'r', 'f', 'q', 'j', 'm', 'u', 'o', '4', '\\n', 'h', '_'}\n",
      "the target vocabulary is {'ˌ', 's', 'd', 'g', 'v', 'ɔ', 'ˈ', 'ʌ', 'k', 'w', 'p', 'ʧ', 'S', 'R', 'ð', 'P', 'ɚ', 'e', 'l', 'i', ' ', 'ʤ', 'ŋ', 'ɛ', 'θ', 'M', 'ʃ', 't', 'n', 'N', 'ʒ', 'a', 'K', 'T', 'z', 'b', 'f', 'æ', 'D', 'ɑ', 'j', 'm', 'ʊ', 'u', 'ɪ', 'o', 'F', '\\n', 'h', 'ɹ', 'L'}\n",
      "Number of words: 133286\n",
      "\n",
      "English words 10 to 20:\n",
      "a a c h e n e r\n",
      "a a k e r\n",
      "a a l s e t h\n",
      "a a m o d t\n",
      "a a n c o r\n",
      "a a r d e m a\n",
      "a a r d v a r k\n",
      "a a r o n\n",
      "a a r o n ' s\n",
      "a a r o n s\n",
      "\n",
      "English IPAs 10 to 20:\n",
      "ɑ ˈ k ʌ n ɚ\n",
      "ɑ ˈ k ɚ\n",
      "ɑ ˈ l s ɛ θ\n",
      "ɑ ˈ m ʌ t\n",
      "ɑ ˈ n k ɔ ˌ ɹ\n",
      "ɑ ɹ d ɛ ˈ m ʌ\n",
      "ɑ ˈ ɹ d v ɑ ˌ ɹ k\n",
      "ɛ ˈ ɹ ʌ n\n",
      "ɛ ˈ ɹ ʌ n z\n",
      "ɛ ˈ ɹ ʌ n z\n"
     ]
    }
   ],
   "source": [
    "view_sentence_range = (10, 20)\n",
    "\n",
    "\"\"\"\n",
    "DON'T MODIFY ANYTHING IN THIS CELL\n",
    "\"\"\"\n",
    "import numpy as np\n",
    "\n",
    "print('Dataset Stats')\n",
    "print('Roughly the number of unique words: {}'.format(len({word: None for word in source_text.split()})))\n",
    "\n",
    "# a sentence is a full sequence or an example.\n",
    "\n",
    "source_vocab = set(source_text)\n",
    "target_vocab = set(target_text)\n",
    "\n",
    "\n",
    "print(\"the source vocabulary is\", source_vocab)\n",
    "print(\"the target vocabulary is\", target_vocab)\n",
    "\n",
    "\n",
    "sentences = source_text.split('\\n')\n",
    "word_counts = [len(sentence.split()) for sentence in sentences]\n",
    "print('Number of words: {}'.format(len(sentences)))\n",
    "\n",
    "print()\n",
    "print('English words {} to {}:'.format(*view_sentence_range))\n",
    "print('\\n'.join(source_text.split('\\n')[view_sentence_range[0]:view_sentence_range[1]]))\n",
    "print()\n",
    "print('English IPAs {} to {}:'.format(*view_sentence_range))\n",
    "print('\\n'.join(target_text.split('\\n')[view_sentence_range[0]:view_sentence_range[1]]))"
   ]
  },
  {
   "cell_type": "markdown",
   "metadata": {},
   "source": [
    "## Implement Preprocessing Function\n",
    "### Text to Word Ids\n",
    "As you did with other RNNs, you must turn the text into a number so the computer can understand it. In the function `text_to_ids()`, you'll turn `source_text` and `target_text` from words to ids.  However, you need to add the `<EOS>` word id at the end of `target_text`.  This will help the neural network predict when the sentence should end.\n",
    "\n",
    "You can get the `<EOS>` word id by doing:\n",
    "```python\n",
    "target_vocab_to_int['<EOS>']\n",
    "```\n",
    "You can get other word ids using `source_vocab_to_int` and `target_vocab_to_int`."
   ]
  },
  {
   "cell_type": "code",
   "execution_count": 4,
   "metadata": {},
   "outputs": [
    {
     "name": "stdout",
     "output_type": "stream",
     "text": [
      "Tests Passed\n"
     ]
    }
   ],
   "source": [
    "def text_to_ids(source_text, target_text, source_vocab_to_int, target_vocab_to_int):\n",
    "    \"\"\"\n",
    "    Convert source and target text to proper word ids\n",
    "    :param source_text: String that contains all the source text.\n",
    "    :param target_text: String that contains all the target text.\n",
    "    :param source_vocab_to_int: Dictionary to go from the source words to an id\n",
    "    :param target_vocab_to_int: Dictionary to go from the target words to an id\n",
    "    :return: A tuple of lists (source_id_text, target_id_text)\n",
    "    \"\"\"\n",
    "    # Just go through the text and transform it.\n",
    "    source_id_text = []\n",
    "    for idx, line in enumerate(source_text.split('\\n')):\n",
    "        source_id_text.append([])\n",
    "        for word in line.split():\n",
    "            source_id_text[idx].append(source_vocab_to_int[word])\n",
    "        \n",
    "    target_id_text = []\n",
    "    for idx, line in enumerate(target_text.split('\\n')):\n",
    "        target_id_text.append([])\n",
    "        for word in line.split():\n",
    "            target_id_text[idx].append(target_vocab_to_int[word])\n",
    "        target_id_text[idx].append(target_vocab_to_int['<EOS>'])\n",
    "\n",
    "    return (source_id_text, target_id_text)\n",
    "\n",
    "tests.test_text_to_ids(text_to_ids)"
   ]
  },
  {
   "cell_type": "markdown",
   "metadata": {},
   "source": [
    "### Preprocess all the data and save it\n",
    "Running the code cell below will preprocess all the data and save it to file."
   ]
  },
  {
   "cell_type": "code",
   "execution_count": 5,
   "metadata": {
    "scrolled": false
   },
   "outputs": [],
   "source": [
    "helper.preprocess_and_save_data(source_text, target_text, text_to_ids)"
   ]
  },
  {
   "cell_type": "markdown",
   "metadata": {},
   "source": [
    "# Check Point\n",
    "This is your first checkpoint. If you ever decide to come back to this notebook or have to restart the notebook, you can start from here. The preprocessed data has been saved to disk."
   ]
  },
  {
   "cell_type": "code",
   "execution_count": 6,
   "metadata": {},
   "outputs": [],
   "source": [
    "import numpy as np\n",
    "import helper\n",
    "import problem_unittests as tests\n",
    "\n",
    "(source_int_text, target_int_text), (source_vocab_to_int, target_vocab_to_int), _ = helper.load_preprocess()"
   ]
  },
  {
   "cell_type": "markdown",
   "metadata": {},
   "source": [
    "### Check the Version of TensorFlow and Access to GPU\n",
    "This will check to make sure you have the correct version of TensorFlow and access to a GPU"
   ]
  },
  {
   "cell_type": "code",
   "execution_count": 7,
   "metadata": {},
   "outputs": [
    {
     "name": "stdout",
     "output_type": "stream",
     "text": [
      "TensorFlow Version: 1.8.0\n",
      "Default GPU Device: /device:GPU:0\n"
     ]
    }
   ],
   "source": [
    "from distutils.version import LooseVersion\n",
    "import warnings\n",
    "import tensorflow as tf\n",
    "from tensorflow.python.layers.core import Dense\n",
    "\n",
    "# Check TensorFlow Version\n",
    "assert LooseVersion(tf.__version__) >= LooseVersion('1.1'), 'Please use TensorFlow version 1.1 or newer'\n",
    "print('TensorFlow Version: {}'.format(tf.__version__))\n",
    "\n",
    "# Check for a GPU\n",
    "if not tf.test.gpu_device_name():\n",
    "    warnings.warn('No GPU found. Please use a GPU to train your neural network.')\n",
    "else:\n",
    "    print('Default GPU Device: {}'.format(tf.test.gpu_device_name()))"
   ]
  },
  {
   "cell_type": "markdown",
   "metadata": {},
   "source": [
    "## Build the Neural Network\n",
    "You'll build the components necessary to build a Sequence-to-Sequence model by implementing the following functions below:\n",
    "- `model_inputs`\n",
    "- `process_decoder_input`\n",
    "- `encoding_layer`\n",
    "- `decoding_layer_train`\n",
    "- `decoding_layer_infer`\n",
    "- `decoding_layer`\n",
    "- `seq2seq_model`\n",
    "\n",
    "### Input\n",
    "Implement the `model_inputs()` function to create TF Placeholders for the Neural Network. It should create the following placeholders:\n",
    "\n",
    "- Input text placeholder named \"input\" using the TF Placeholder name parameter with rank 2.\n",
    "- Targets placeholder with rank 2.\n",
    "- Learning rate placeholder with rank 0.\n",
    "- Keep probability placeholder named \"keep_prob\" using the TF Placeholder name parameter with rank 0.\n",
    "- Target sequence length placeholder named \"target_sequence_length\" with rank 1\n",
    "- Max target sequence length tensor named \"max_target_len\" getting its value from applying tf.reduce_max on the target_sequence_length placeholder. Rank 0.\n",
    "- Source sequence length placeholder named \"source_sequence_length\" with rank 1\n",
    "\n",
    "Return the placeholders in the following the tuple (input, targets, learning rate, keep probability, target sequence length, max target sequence length, source sequence length)"
   ]
  },
  {
   "cell_type": "code",
   "execution_count": 8,
   "metadata": {},
   "outputs": [
    {
     "name": "stdout",
     "output_type": "stream",
     "text": [
      "Tests Passed\n"
     ]
    }
   ],
   "source": [
    "def model_inputs():\n",
    "    \"\"\"\n",
    "    Create TF Placeholders for input, targets, learning rate, and lengths of source and target sequences.\n",
    "    :return: Tuple (input, targets, learning rate, keep probability, target sequence length,\n",
    "    max target sequence length, source sequence length)\n",
    "    \"\"\"\n",
    "    # TODO: Implement Function\n",
    "    inputs = tf.placeholder(tf.int32, shape=[None,None], name= \"input\")\n",
    "    targets = tf.placeholder(tf.int32, shape=[None,None], name= \"targets\")\n",
    "    lrate = tf.placeholder(tf.float32, name= \"learning_rate\")\n",
    "    keep_prob = tf.placeholder(tf.float32, name= \"keep_prob\")\n",
    "    target_seq_lenth = tf.placeholder(tf.int32, shape=[None], name= \"target_sequence_length\")\n",
    "    max_target_len = tf.reduce_max(target_seq_lenth, name= 'max_target_len')\n",
    "    source_seq_length = tf.placeholder(tf.int32, shape=[None], name= \"source_sequence_length\")\n",
    "    return (inputs, targets, lrate, keep_prob, target_seq_lenth, max_target_len, source_seq_length)\n",
    "\n",
    "\n",
    "tests.test_model_inputs(model_inputs)"
   ]
  },
  {
   "cell_type": "markdown",
   "metadata": {},
   "source": [
    "### Process Decoder Input\n",
    "Implement `process_decoder_input` by removing the last word id from each batch in `target_data` and concat the GO ID to the begining of each batch."
   ]
  },
  {
   "cell_type": "code",
   "execution_count": 9,
   "metadata": {},
   "outputs": [
    {
     "name": "stdout",
     "output_type": "stream",
     "text": [
      "Tests Passed\n"
     ]
    }
   ],
   "source": [
    "def process_decoder_input(target_data, target_vocab_to_int, batch_size):\n",
    "    \"\"\"\n",
    "    Preprocess target data for encoding\n",
    "    :param target_data: Target Placehoder\n",
    "    :param target_vocab_to_int: Dictionary to go from the target words to an id\n",
    "    :param batch_size: Batch Size\n",
    "    :return: Preprocessed target data\n",
    "    \"\"\"\n",
    "    # Create a constant tensor with the 'go id'.\n",
    "    go_id = tf.constant(target_vocab_to_int['<GO>'], shape=(batch_size,1), dtype=tf.int32)\n",
    "    # Concatenate the vector without the last word id with the go ids vector\n",
    "    processed_input = tf.concat([go_id,target_data[:,:-1]],1)\n",
    "    return processed_input\n",
    "\n",
    "tests.test_process_encoding_input(process_decoder_input)"
   ]
  },
  {
   "cell_type": "markdown",
   "metadata": {},
   "source": [
    "### Encoding\n",
    "Implement `encoding_layer()` to create a Encoder RNN layer:\n",
    " * Embed the encoder input using [`tf.contrib.layers.embed_sequence`](https://www.tensorflow.org/api_docs/python/tf/contrib/layers/embed_sequence)\n",
    " * Construct a [stacked](https://github.com/tensorflow/tensorflow/blob/6947f65a374ebf29e74bb71e36fd82760056d82c/tensorflow/docs_src/tutorials/recurrent.md#stacking-multiple-lstms) [`tf.contrib.rnn.LSTMCell`](https://www.tensorflow.org/api_docs/python/tf/contrib/rnn/LSTMCell) wrapped in a [`tf.contrib.rnn.DropoutWrapper`](https://www.tensorflow.org/api_docs/python/tf/contrib/rnn/DropoutWrapper)\n",
    " * Pass cell and embedded input to [`tf.nn.dynamic_rnn()`](https://www.tensorflow.org/api_docs/python/tf/nn/dynamic_rnn)"
   ]
  },
  {
   "cell_type": "code",
   "execution_count": 10,
   "metadata": {
    "scrolled": false
   },
   "outputs": [
    {
     "name": "stdout",
     "output_type": "stream",
     "text": [
      "Tests Passed\n"
     ]
    }
   ],
   "source": [
    "from imp import reload\n",
    "reload(tests)\n",
    "\n",
    "def encoding_layer(rnn_inputs, rnn_size, num_layers, keep_prob, \n",
    "                   source_sequence_length, source_vocab_size, \n",
    "                   encoding_embedding_size):\n",
    "    \"\"\"\n",
    "    Create encoding layer\n",
    "    :param rnn_inputs: Inputs for the RNN\n",
    "    :param rnn_size: RNN Size\n",
    "    :param num_layers: Number of layers\n",
    "    :param keep_prob: Dropout keep probability\n",
    "    :param source_sequence_length: a list of the lengths of each sequence in the batch\n",
    "    :param source_vocab_size: vocabulary size of source data\n",
    "    :param encoding_embedding_size: embedding size of source data\n",
    "    :return: tuple (RNN output, RNN state)\n",
    "    \"\"\"\n",
    "    # Build the lstm cells wrapped in dropout\n",
    "    def build_cell(rnn_size, keep_prob):\n",
    "        lstm = tf.contrib.rnn.LSTMCell(rnn_size)\n",
    "        lstm_drop = tf.contrib.rnn.DropoutWrapper(lstm, output_keep_prob=keep_prob)\n",
    "        return lstm_drop\n",
    "    # Stack them all\n",
    "    stacked_lstm = tf.contrib.rnn.MultiRNNCell([build_cell(rnn_size, keep_prob) for _ in range(num_layers)])\n",
    "    # Creathe embedding layer.\n",
    "    embed_encoder = tf.contrib.layers.embed_sequence(rnn_inputs, vocab_size = source_vocab_size, embed_dim = encoding_embedding_size)\n",
    "    # If we don't have an initial zero state, provide a dtype.\n",
    "    output, state = tf.nn.dynamic_rnn(stacked_lstm, embed_encoder, source_sequence_length, dtype=tf.float32)\n",
    "    return (output, state)\n",
    "\n",
    "tests.test_encoding_layer(encoding_layer)"
   ]
  },
  {
   "cell_type": "markdown",
   "metadata": {},
   "source": [
    "### Decoding - Training\n",
    "Create a training decoding layer:\n",
    "* Create a [`tf.contrib.seq2seq.TrainingHelper`](https://www.tensorflow.org/api_docs/python/tf/contrib/seq2seq/TrainingHelper) \n",
    "* Create a [`tf.contrib.seq2seq.BasicDecoder`](https://www.tensorflow.org/api_docs/python/tf/contrib/seq2seq/BasicDecoder)\n",
    "* Obtain the decoder outputs from [`tf.contrib.seq2seq.dynamic_decode`](https://www.tensorflow.org/api_docs/python/tf/contrib/seq2seq/dynamic_decode)"
   ]
  },
  {
   "cell_type": "code",
   "execution_count": 11,
   "metadata": {},
   "outputs": [
    {
     "name": "stdout",
     "output_type": "stream",
     "text": [
      "Tests Passed\n"
     ]
    }
   ],
   "source": [
    "def decoding_layer_train(encoder_state, dec_cell, dec_embed_input, \n",
    "                         target_sequence_length, max_summary_length, \n",
    "                         output_layer, keep_prob):\n",
    "    \"\"\"\n",
    "    Create a decoding layer for training\n",
    "    :param encoder_state: Encoder State\n",
    "    :param dec_cell: Decoder RNN Cell\n",
    "    :param dec_embed_input: Decoder embedded input\n",
    "    :param target_sequence_length: The lengths of each sequence in the target batch\n",
    "    :param max_summary_length: The length of the longest sequence in the batch\n",
    "    :param output_layer: Function to apply the output layer\n",
    "    :param keep_prob: Dropout keep probability\n",
    "    :return: BasicDecoderOutput containing training logits and sample_id\n",
    "    \"\"\"\n",
    "    # TODO: Implement Function\n",
    "    trainig_helper = tf.contrib.seq2seq.TrainingHelper(dec_embed_input, target_sequence_length)\n",
    "    basic_decoder = tf.contrib.seq2seq.BasicDecoder(dec_cell, trainig_helper, encoder_state, output_layer)\n",
    "    f_output, _, _ = tf.contrib.seq2seq.dynamic_decode(basic_decoder,maximum_iterations=max_summary_length)\n",
    "#     f_output = tf.contrib.seq2seq.dynamic_decode(basic_decoder,maximum_iterations=max_summary_length)\n",
    "    return f_output\n",
    "\n",
    "\n",
    "tests.test_decoding_layer_train(decoding_layer_train)"
   ]
  },
  {
   "cell_type": "markdown",
   "metadata": {},
   "source": [
    "### Decoding - Inference\n",
    "Create inference decoder:\n",
    "* Create a [`tf.contrib.seq2seq.GreedyEmbeddingHelper`](https://www.tensorflow.org/api_docs/python/tf/contrib/seq2seq/GreedyEmbeddingHelper)\n",
    "* Create a [`tf.contrib.seq2seq.BasicDecoder`](https://www.tensorflow.org/api_docs/python/tf/contrib/seq2seq/BasicDecoder)\n",
    "* Obtain the decoder outputs from [`tf.contrib.seq2seq.dynamic_decode`](https://www.tensorflow.org/api_docs/python/tf/contrib/seq2seq/dynamic_decode)"
   ]
  },
  {
   "cell_type": "code",
   "execution_count": 12,
   "metadata": {
    "scrolled": false
   },
   "outputs": [
    {
     "name": "stdout",
     "output_type": "stream",
     "text": [
      "Tests Passed\n"
     ]
    }
   ],
   "source": [
    "def decoding_layer_infer(encoder_state, dec_cell, dec_embeddings, start_of_sequence_id,\n",
    "                         end_of_sequence_id, max_target_sequence_length,\n",
    "                         vocab_size, output_layer, batch_size, keep_prob):\n",
    "    \"\"\"\n",
    "    Create a decoding layer for inference\n",
    "    :param encoder_state: Encoder state\n",
    "    :param dec_cell: Decoder RNN Cell\n",
    "    :param dec_embeddings: Decoder embeddings\n",
    "    :param start_of_sequence_id: GO ID\n",
    "    :param end_of_sequence_id: EOS Id\n",
    "    :param max_target_sequence_length: Maximum length of target sequences\n",
    "    :param vocab_size: Size of decoder/target vocabulary\n",
    "    :param decoding_scope: TenorFlow Variable Scope for decoding\n",
    "    :param output_layer: Function to apply the output layer\n",
    "    :param batch_size: Batch size\n",
    "    :param keep_prob: Dropout keep probability\n",
    "    :return: BasicDecoderOutput containing inference logits and sample_id\n",
    "    \"\"\"\n",
    "    # Convert the start_ids to be a vector with batch size (the go id repeated batch size times)\n",
    "    start_ids = tf.tile([start_of_sequence_id], [batch_size])\n",
    "    # Create the embedding helper.\n",
    "    embedding_helper = tf.contrib.seq2seq.GreedyEmbeddingHelper(\n",
    "        dec_embeddings, start_ids, end_of_sequence_id)\n",
    "    basic_decoder = tf.contrib.seq2seq.BasicDecoder(\n",
    "        dec_cell, embedding_helper, encoder_state, output_layer)\n",
    "    f_output, _, _ = tf.contrib.seq2seq.dynamic_decode(\n",
    "        basic_decoder,maximum_iterations=max_target_sequence_length)\n",
    "    return f_output\n",
    "\n",
    "\n",
    "\n",
    "tests.test_decoding_layer_infer(decoding_layer_infer)"
   ]
  },
  {
   "cell_type": "markdown",
   "metadata": {},
   "source": [
    "### Build the Decoding Layer\n",
    "Implement `decoding_layer()` to create a Decoder RNN layer.\n",
    "\n",
    "* Embed the target sequences\n",
    "* Construct the decoder LSTM cell (just like you constructed the encoder cell above)\n",
    "* Create an output layer to map the outputs of the decoder to the elements of our vocabulary\n",
    "* Use the your `decoding_layer_train(encoder_state, dec_cell, dec_embed_input, target_sequence_length, max_target_sequence_length, output_layer, keep_prob)` function to get the training logits.\n",
    "* Use your `decoding_layer_infer(encoder_state, dec_cell, dec_embeddings, start_of_sequence_id, end_of_sequence_id, max_target_sequence_length, vocab_size, output_layer, batch_size, keep_prob)` function to get the inference logits.\n",
    "\n",
    "Note: You'll need to use [tf.variable_scope](https://www.tensorflow.org/api_docs/python/tf/variable_scope) to share variables between training and inference."
   ]
  },
  {
   "cell_type": "code",
   "execution_count": 13,
   "metadata": {},
   "outputs": [
    {
     "name": "stdout",
     "output_type": "stream",
     "text": [
      "Tests Passed\n"
     ]
    }
   ],
   "source": [
    "def decoding_layer(dec_input, encoder_state,\n",
    "                   target_sequence_length, max_target_sequence_length,\n",
    "                   rnn_size,\n",
    "                   num_layers, target_vocab_to_int, target_vocab_size,\n",
    "                   batch_size, keep_prob, decoding_embedding_size):\n",
    "    \"\"\"\n",
    "    Create decoding layer\n",
    "    :param dec_input: Decoder input\n",
    "    :param encoder_state: Encoder state\n",
    "    :param target_sequence_length: The lengths of each sequence in the target batch\n",
    "    :param max_target_sequence_length: Maximum length of target sequences\n",
    "    :param rnn_size: RNN Size\n",
    "    :param num_layers: Number of layers\n",
    "    :param target_vocab_to_int: Dictionary to go from the target words to an id\n",
    "    :param target_vocab_size: Size of target vocabulary\n",
    "    :param batch_size: The size of the batch\n",
    "    :param keep_prob: Dropout keep probability\n",
    "    :param decoding_embedding_size: Decoding embedding size\n",
    "    :return: Tuple of (Training BasicDecoderOutput, Inference BasicDecoderOutput)\n",
    "    \"\"\"\n",
    "    # Use the same proess as in the encoding layer.\n",
    "    def build_cell(rnn_size, keep_prob):\n",
    "        lstm = tf.contrib.rnn.LSTMCell(rnn_size)\n",
    "        lstm_drop = tf.contrib.rnn.DropoutWrapper(lstm, output_keep_prob=keep_prob)\n",
    "        return lstm_drop\n",
    "    # Stack them all\n",
    "    stacked_lstm = tf.contrib.rnn.MultiRNNCell([build_cell(rnn_size, keep_prob) for _ in range(num_layers)])\n",
    "    \n",
    "    dec_embeddings = tf.Variable(tf.random_uniform([target_vocab_size, decoding_embedding_size]))\n",
    "    dec_embed_input = tf.nn.embedding_lookup(dec_embeddings, dec_input)\n",
    "\n",
    "    dense_layer = Dense(target_vocab_size,\n",
    "                         kernel_initializer = tf.truncated_normal_initializer(mean = 0.0, stddev=0.1))\n",
    "    \n",
    "    with tf.variable_scope(\"decode\") as scope:\n",
    "        tr_decoder_output = decoding_layer_train(\n",
    "            encoder_state, stacked_lstm, dec_embed_input, \n",
    "            target_sequence_length, max_target_sequence_length, \n",
    "            dense_layer, keep_prob)\n",
    "        scope.reuse_variables()\n",
    "        inf_decoder_output = decoding_layer_infer(\n",
    "            encoder_state, stacked_lstm, dec_embeddings, \n",
    "            target_vocab_to_int['<GO>'], target_vocab_to_int['<EOS>'], \n",
    "            max_target_sequence_length, target_vocab_size, \n",
    "            dense_layer, batch_size, keep_prob)\n",
    "    \n",
    "    return tr_decoder_output, inf_decoder_output\n",
    "\n",
    "tests.test_decoding_layer(decoding_layer)"
   ]
  },
  {
   "cell_type": "markdown",
   "metadata": {},
   "source": [
    "### Build the Neural Network\n",
    "Apply the functions you implemented above to:\n",
    "\n",
    "- Encode the input using your `encoding_layer(rnn_inputs, rnn_size, num_layers, keep_prob,  source_sequence_length, source_vocab_size, encoding_embedding_size)`.\n",
    "- Process target data using your `process_decoder_input(target_data, target_vocab_to_int, batch_size)` function.\n",
    "- Decode the encoded input using your `decoding_layer(dec_input, enc_state, target_sequence_length, max_target_sentence_length, rnn_size, num_layers, target_vocab_to_int, target_vocab_size, batch_size, keep_prob, dec_embedding_size)` function."
   ]
  },
  {
   "cell_type": "code",
   "execution_count": 14,
   "metadata": {},
   "outputs": [
    {
     "name": "stdout",
     "output_type": "stream",
     "text": [
      "Tests Passed\n"
     ]
    }
   ],
   "source": [
    "def seq2seq_model(input_data, target_data, keep_prob, batch_size,\n",
    "                  source_sequence_length, target_sequence_length,\n",
    "                  max_target_sentence_length,\n",
    "                  source_vocab_size, target_vocab_size,\n",
    "                  enc_embedding_size, dec_embedding_size,\n",
    "                  rnn_size, num_layers, target_vocab_to_int):\n",
    "    \"\"\"\n",
    "    Build the Sequence-to-Sequence part of the neural network\n",
    "    :param input_data: Input placeholder\n",
    "    :param target_data: Target placeholder\n",
    "    :param keep_prob: Dropout keep probability placeholder\n",
    "    :param batch_size: Batch Size\n",
    "    :param source_sequence_length: Sequence Lengths of source sequences in the batch\n",
    "    :param target_sequence_length: Sequence Lengths of target sequences in the batch\n",
    "    :param source_vocab_size: Source vocabulary size\n",
    "    :param target_vocab_size: Target vocabulary size\n",
    "    :param enc_embedding_size: Decoder embedding size\n",
    "    :param dec_embedding_size: Encoder embedding size\n",
    "    :param rnn_size: RNN Size\n",
    "    :param num_layers: Number of layers\n",
    "    :param target_vocab_to_int: Dictionary to go from the target words to an id\n",
    "    :return: Tuple of (Training BasicDecoderOutput, Inference BasicDecoderOutput)\n",
    "    \"\"\"\n",
    "    output, state = encoding_layer(input_data, rnn_size, num_layers, keep_prob, \n",
    "                   source_sequence_length, source_vocab_size, \n",
    "                   enc_embedding_size)\n",
    "    \n",
    "    processed_input = process_decoder_input(target_data, target_vocab_to_int, batch_size)\n",
    "    \n",
    "    tr_decoder_output, inf_decoder_output = decoding_layer(processed_input, state,\n",
    "                   target_sequence_length, max_target_sentence_length,\n",
    "                   rnn_size, num_layers, target_vocab_to_int, target_vocab_size,\n",
    "                   batch_size, keep_prob, dec_embedding_size)\n",
    "    \n",
    "    return tr_decoder_output, inf_decoder_output\n",
    "\n",
    "\n",
    "tests.test_seq2seq_model(seq2seq_model)"
   ]
  },
  {
   "cell_type": "markdown",
   "metadata": {},
   "source": [
    "## Neural Network Training\n",
    "### Hyperparameters\n",
    "Tune the following parameters:\n",
    "\n",
    "- Set `epochs` to the number of epochs.\n",
    "- Set `batch_size` to the batch size.\n",
    "- Set `rnn_size` to the size of the RNNs.\n",
    "- Set `num_layers` to the number of layers.\n",
    "- Set `encoding_embedding_size` to the size of the embedding for the encoder.\n",
    "- Set `decoding_embedding_size` to the size of the embedding for the decoder.\n",
    "- Set `learning_rate` to the learning rate.\n",
    "- Set `keep_probability` to the Dropout keep probability\n",
    "- Set `display_step` to state how many steps between each debug output statement"
   ]
  },
  {
   "cell_type": "code",
   "execution_count": 15,
   "metadata": {},
   "outputs": [],
   "source": [
    "# Number of Epochs\n",
    "epochs = 10 # Originally 10. 20 - 42%; 30 - [60%, 46.15%]; 40 - 50%\n",
    "# Batch Size\n",
    "batch_size = 32 # Originally 2?\n",
    "# RNN Size\n",
    "rnn_size = 128\n",
    "# Number of Layers\n",
    "num_layers = 2\n",
    "# Embedding Size\n",
    "encoding_embedding_size = 128 # Originally 128. # 32 - [23.08%]\n",
    "decoding_embedding_size = 128 # Originally 128. # 32 - [23.08%]\n",
    "# Learning Rate\n",
    "learning_rate = 0.0001 # Originally 0.001.\n",
    "# Dropout Keep Probability\n",
    "keep_probability = 0.55\n",
    "display_step = 1000"
   ]
  },
  {
   "cell_type": "markdown",
   "metadata": {},
   "source": [
    "### Build the Graph\n",
    "Build the graph using the neural network you implemented."
   ]
  },
  {
   "cell_type": "code",
   "execution_count": 16,
   "metadata": {},
   "outputs": [],
   "source": [
    "\"\"\"\n",
    "DON'T MODIFY ANYTHING IN THIS CELL\n",
    "\"\"\"\n",
    "save_path = 'checkpoints/dev'\n",
    "(source_int_text, target_int_text), (source_vocab_to_int, target_vocab_to_int), _ = helper.load_preprocess()\n",
    "max_target_sentence_length = max([len(sentence) for sentence in source_int_text])\n",
    "\n",
    "train_graph = tf.Graph()\n",
    "with train_graph.as_default():\n",
    "    input_data, targets, lr, keep_prob, target_sequence_length, max_target_sequence_length, source_sequence_length = model_inputs()\n",
    "\n",
    "    #sequence_length = tf.placeholder_with_default(max_target_sentence_length, None, name='sequence_length')\n",
    "    input_shape = tf.shape(input_data)\n",
    "\n",
    "    train_logits, inference_logits = seq2seq_model(tf.reverse(input_data, [-1]),\n",
    "                                                   targets,\n",
    "                                                   keep_prob,\n",
    "                                                   batch_size,\n",
    "                                                   source_sequence_length,\n",
    "                                                   target_sequence_length,\n",
    "                                                   max_target_sequence_length,\n",
    "                                                   len(source_vocab_to_int),\n",
    "                                                   len(target_vocab_to_int),\n",
    "                                                   encoding_embedding_size,\n",
    "                                                   decoding_embedding_size,\n",
    "                                                   rnn_size,\n",
    "                                                   num_layers,\n",
    "                                                   target_vocab_to_int)\n",
    "\n",
    "\n",
    "    training_logits = tf.identity(train_logits.rnn_output, name='logits')\n",
    "    inference_logits = tf.identity(inference_logits.sample_id, name='predictions')\n",
    "\n",
    "    masks = tf.sequence_mask(target_sequence_length, max_target_sequence_length, dtype=tf.float32, name='masks')\n",
    "\n",
    "    with tf.name_scope(\"optimization\"):\n",
    "        # Loss function\n",
    "        cost = tf.contrib.seq2seq.sequence_loss(\n",
    "            training_logits,\n",
    "            targets,\n",
    "            masks)\n",
    "\n",
    "        # Optimizer\n",
    "        optimizer = tf.train.AdamOptimizer(lr)\n",
    "\n",
    "        # Gradient Clipping\n",
    "        gradients = optimizer.compute_gradients(cost)\n",
    "        capped_gradients = [(tf.clip_by_value(grad, -1., 1.), var) for grad, var in gradients if grad is not None]\n",
    "        train_op = optimizer.apply_gradients(capped_gradients)\n"
   ]
  },
  {
   "cell_type": "markdown",
   "metadata": {},
   "source": [
    "Batch and pad the source and target sequences"
   ]
  },
  {
   "cell_type": "code",
   "execution_count": 17,
   "metadata": {},
   "outputs": [],
   "source": [
    "def pad_sentence_batch(sentence_batch, pad_int):\n",
    "    \"\"\"Pad sentences with <PAD> so that each sentence of a batch has the same length\"\"\"\n",
    "    max_sentence = max([len(sentence) for sentence in sentence_batch])\n",
    "    return [sentence + [pad_int] * (max_sentence - len(sentence)) for sentence in sentence_batch]\n",
    "\n",
    "\n",
    "def get_batches(sources, targets, batch_size, source_pad_int, target_pad_int):\n",
    "    \"\"\"Batch targets, sources, and the lengths of their sentences together\"\"\"\n",
    "    for batch_i in range(0, len(sources)//batch_size):\n",
    "        start_i = batch_i * batch_size\n",
    "\n",
    "        # Slice the right amount for the batch\n",
    "        sources_batch = sources[start_i:start_i + batch_size]\n",
    "        targets_batch = targets[start_i:start_i + batch_size]\n",
    "\n",
    "        # Pad\n",
    "        pad_sources_batch = np.array(pad_sentence_batch(sources_batch, source_pad_int))\n",
    "        pad_targets_batch = np.array(pad_sentence_batch(targets_batch, target_pad_int))\n",
    "\n",
    "        # Need the lengths for the _lengths parameters\n",
    "        pad_targets_lengths = []\n",
    "        for target in pad_targets_batch:\n",
    "            pad_targets_lengths.append(len(target))\n",
    "\n",
    "        pad_source_lengths = []\n",
    "        for source in pad_sources_batch:\n",
    "            pad_source_lengths.append(len(source))\n",
    "\n",
    "        yield pad_sources_batch, pad_targets_batch, pad_source_lengths, pad_targets_lengths\n"
   ]
  },
  {
   "cell_type": "markdown",
   "metadata": {},
   "source": [
    "### Train\n",
    "Train the neural network on the preprocessed data. If you have a hard time getting a good loss, check the forms to see if anyone is having the same problem."
   ]
  },
  {
   "cell_type": "code",
   "execution_count": 18,
   "metadata": {
    "scrolled": true
   },
   "outputs": [
    {
     "name": "stdout",
     "output_type": "stream",
     "text": [
      "Epoch   0 Batch 1000/4165 - Train Accuracy: 0.4420, Validation Accuracy: 0.7045, Loss: 2.0979\n",
      "Epoch   0 Batch 2000/4165 - Train Accuracy: 0.4896, Validation Accuracy: 0.7472, Loss: 1.6888\n",
      "Epoch   0 Batch 3000/4165 - Train Accuracy: 0.3571, Validation Accuracy: 0.7116, Loss: 2.1060\n",
      "Epoch   0 Batch 4000/4165 - Train Accuracy: 0.4625, Validation Accuracy: 0.7102, Loss: 1.4731\n",
      "Epoch   1 Batch 1000/4165 - Train Accuracy: 0.4174, Validation Accuracy: 0.7045, Loss: 1.5301\n",
      "Epoch   1 Batch 2000/4165 - Train Accuracy: 0.5573, Validation Accuracy: 0.7074, Loss: 1.2858\n",
      "Epoch   1 Batch 3000/4165 - Train Accuracy: 0.3951, Validation Accuracy: 0.6761, Loss: 1.8296\n",
      "Epoch   1 Batch 4000/4165 - Train Accuracy: 0.5208, Validation Accuracy: 0.6832, Loss: 1.1187\n",
      "Epoch   2 Batch 1000/4165 - Train Accuracy: 0.3951, Validation Accuracy: 0.7045, Loss: 1.3750\n",
      "Epoch   2 Batch 2000/4165 - Train Accuracy: 0.5703, Validation Accuracy: 0.7088, Loss: 1.1595\n",
      "Epoch   2 Batch 3000/4165 - Train Accuracy: 0.4152, Validation Accuracy: 0.6818, Loss: 1.6602\n",
      "Epoch   2 Batch 4000/4165 - Train Accuracy: 0.5417, Validation Accuracy: 0.7003, Loss: 0.9684\n",
      "Epoch   3 Batch 1000/4165 - Train Accuracy: 0.4018, Validation Accuracy: 0.7031, Loss: 1.2325\n",
      "Epoch   3 Batch 2000/4165 - Train Accuracy: 0.5859, Validation Accuracy: 0.7017, Loss: 0.9420\n",
      "Epoch   3 Batch 3000/4165 - Train Accuracy: 0.4062, Validation Accuracy: 0.7003, Loss: 1.4622\n",
      "Epoch   3 Batch 4000/4165 - Train Accuracy: 0.5458, Validation Accuracy: 0.6861, Loss: 0.8435\n",
      "Epoch   4 Batch 1000/4165 - Train Accuracy: 0.4040, Validation Accuracy: 0.6946, Loss: 1.0903\n",
      "Epoch   4 Batch 2000/4165 - Train Accuracy: 0.6562, Validation Accuracy: 0.7116, Loss: 0.7811\n",
      "Epoch   4 Batch 3000/4165 - Train Accuracy: 0.4174, Validation Accuracy: 0.6932, Loss: 1.2272\n",
      "Epoch   4 Batch 4000/4165 - Train Accuracy: 0.5875, Validation Accuracy: 0.6989, Loss: 0.7522\n",
      "Epoch   5 Batch 1000/4165 - Train Accuracy: 0.4420, Validation Accuracy: 0.6861, Loss: 0.9773\n",
      "Epoch   5 Batch 2000/4165 - Train Accuracy: 0.7005, Validation Accuracy: 0.7571, Loss: 0.6190\n",
      "Epoch   5 Batch 3000/4165 - Train Accuracy: 0.4196, Validation Accuracy: 0.7202, Loss: 1.1586\n",
      "Epoch   5 Batch 4000/4165 - Train Accuracy: 0.5813, Validation Accuracy: 0.6790, Loss: 0.6880\n",
      "Epoch   6 Batch 1000/4165 - Train Accuracy: 0.4643, Validation Accuracy: 0.7074, Loss: 0.8406\n",
      "Epoch   6 Batch 2000/4165 - Train Accuracy: 0.7318, Validation Accuracy: 0.8082, Loss: 0.5528\n",
      "Epoch   6 Batch 3000/4165 - Train Accuracy: 0.4554, Validation Accuracy: 0.7543, Loss: 1.0064\n",
      "Epoch   6 Batch 4000/4165 - Train Accuracy: 0.5813, Validation Accuracy: 0.6818, Loss: 0.6086\n",
      "Epoch   7 Batch 1000/4165 - Train Accuracy: 0.4621, Validation Accuracy: 0.7727, Loss: 0.7841\n",
      "Epoch   7 Batch 2000/4165 - Train Accuracy: 0.7526, Validation Accuracy: 0.7912, Loss: 0.5049\n",
      "Epoch   7 Batch 3000/4165 - Train Accuracy: 0.4442, Validation Accuracy: 0.7614, Loss: 0.8963\n",
      "Epoch   7 Batch 4000/4165 - Train Accuracy: 0.6333, Validation Accuracy: 0.6790, Loss: 0.5207\n",
      "Epoch   8 Batch 1000/4165 - Train Accuracy: 0.4397, Validation Accuracy: 0.7969, Loss: 0.6990\n",
      "Epoch   8 Batch 2000/4165 - Train Accuracy: 0.7604, Validation Accuracy: 0.8594, Loss: 0.4124\n",
      "Epoch   8 Batch 3000/4165 - Train Accuracy: 0.5647, Validation Accuracy: 0.8153, Loss: 0.7130\n",
      "Epoch   8 Batch 4000/4165 - Train Accuracy: 0.6396, Validation Accuracy: 0.6733, Loss: 0.4993\n",
      "Epoch   9 Batch 1000/4165 - Train Accuracy: 0.4621, Validation Accuracy: 0.8168, Loss: 0.6918\n",
      "Epoch   9 Batch 2000/4165 - Train Accuracy: 0.7734, Validation Accuracy: 0.8523, Loss: 0.3936\n",
      "Epoch   9 Batch 3000/4165 - Train Accuracy: 0.6585, Validation Accuracy: 0.8395, Loss: 0.6297\n",
      "Epoch   9 Batch 4000/4165 - Train Accuracy: 0.6542, Validation Accuracy: 0.7330, Loss: 0.5054\n",
      "Epoch  10 Batch 1000/4165 - Train Accuracy: 0.4955, Validation Accuracy: 0.8253, Loss: 0.6548\n",
      "Epoch  10 Batch 2000/4165 - Train Accuracy: 0.7891, Validation Accuracy: 0.8580, Loss: 0.3739\n",
      "Epoch  10 Batch 3000/4165 - Train Accuracy: 0.6317, Validation Accuracy: 0.8693, Loss: 0.6016\n",
      "Epoch  10 Batch 4000/4165 - Train Accuracy: 0.6833, Validation Accuracy: 0.7741, Loss: 0.4743\n",
      "Epoch  11 Batch 1000/4165 - Train Accuracy: 0.5112, Validation Accuracy: 0.8139, Loss: 0.6001\n",
      "Epoch  11 Batch 2000/4165 - Train Accuracy: 0.8021, Validation Accuracy: 0.8423, Loss: 0.3129\n",
      "Epoch  11 Batch 3000/4165 - Train Accuracy: 0.6719, Validation Accuracy: 0.8693, Loss: 0.5272\n",
      "Epoch  11 Batch 4000/4165 - Train Accuracy: 0.6750, Validation Accuracy: 0.8310, Loss: 0.4412\n",
      "Epoch  12 Batch 1000/4165 - Train Accuracy: 0.5312, Validation Accuracy: 0.8054, Loss: 0.5716\n",
      "Epoch  12 Batch 2000/4165 - Train Accuracy: 0.8151, Validation Accuracy: 0.8352, Loss: 0.3098\n",
      "Epoch  12 Batch 3000/4165 - Train Accuracy: 0.6696, Validation Accuracy: 0.8551, Loss: 0.4887\n",
      "Epoch  12 Batch 4000/4165 - Train Accuracy: 0.6771, Validation Accuracy: 0.8409, Loss: 0.4354\n",
      "Epoch  13 Batch 1000/4165 - Train Accuracy: 0.5312, Validation Accuracy: 0.7983, Loss: 0.5861\n",
      "Epoch  13 Batch 2000/4165 - Train Accuracy: 0.8151, Validation Accuracy: 0.8409, Loss: 0.2535\n",
      "Epoch  13 Batch 3000/4165 - Train Accuracy: 0.6406, Validation Accuracy: 0.8494, Loss: 0.4589\n",
      "Epoch  13 Batch 4000/4165 - Train Accuracy: 0.6813, Validation Accuracy: 0.8452, Loss: 0.4254\n",
      "Epoch  14 Batch 1000/4165 - Train Accuracy: 0.5625, Validation Accuracy: 0.8125, Loss: 0.5280\n",
      "Epoch  14 Batch 2000/4165 - Train Accuracy: 0.8177, Validation Accuracy: 0.8366, Loss: 0.2998\n",
      "Epoch  14 Batch 3000/4165 - Train Accuracy: 0.6562, Validation Accuracy: 0.8509, Loss: 0.4665\n",
      "Epoch  14 Batch 4000/4165 - Train Accuracy: 0.6979, Validation Accuracy: 0.8381, Loss: 0.4426\n",
      "Epoch  15 Batch 1000/4165 - Train Accuracy: 0.5737, Validation Accuracy: 0.7727, Loss: 0.5174\n",
      "Epoch  15 Batch 2000/4165 - Train Accuracy: 0.8073, Validation Accuracy: 0.8366, Loss: 0.1989\n",
      "Epoch  15 Batch 3000/4165 - Train Accuracy: 0.6897, Validation Accuracy: 0.8409, Loss: 0.4433\n",
      "Epoch  15 Batch 4000/4165 - Train Accuracy: 0.6771, Validation Accuracy: 0.8310, Loss: 0.4376\n",
      "Epoch  16 Batch 1000/4165 - Train Accuracy: 0.5804, Validation Accuracy: 0.8082, Loss: 0.4489\n",
      "Epoch  16 Batch 2000/4165 - Train Accuracy: 0.8464, Validation Accuracy: 0.8295, Loss: 0.1922\n",
      "Epoch  16 Batch 3000/4165 - Train Accuracy: 0.6942, Validation Accuracy: 0.8551, Loss: 0.4143\n",
      "Epoch  16 Batch 4000/4165 - Train Accuracy: 0.6854, Validation Accuracy: 0.8366, Loss: 0.4073\n",
      "Epoch  17 Batch 1000/4165 - Train Accuracy: 0.5625, Validation Accuracy: 0.8054, Loss: 0.4974\n",
      "Epoch  17 Batch 2000/4165 - Train Accuracy: 0.8151, Validation Accuracy: 0.8224, Loss: 0.1765\n",
      "Epoch  17 Batch 3000/4165 - Train Accuracy: 0.6897, Validation Accuracy: 0.8338, Loss: 0.3997\n",
      "Epoch  17 Batch 4000/4165 - Train Accuracy: 0.6875, Validation Accuracy: 0.8381, Loss: 0.4152\n",
      "Epoch  18 Batch 1000/4165 - Train Accuracy: 0.6049, Validation Accuracy: 0.8182, Loss: 0.4646\n",
      "Epoch  18 Batch 2000/4165 - Train Accuracy: 0.8438, Validation Accuracy: 0.8082, Loss: 0.1871\n",
      "Epoch  18 Batch 3000/4165 - Train Accuracy: 0.6987, Validation Accuracy: 0.8125, Loss: 0.3822\n",
      "Epoch  18 Batch 4000/4165 - Train Accuracy: 0.6937, Validation Accuracy: 0.8423, Loss: 0.3578\n",
      "Epoch  19 Batch 1000/4165 - Train Accuracy: 0.6049, Validation Accuracy: 0.8011, Loss: 0.4432\n",
      "Epoch  19 Batch 2000/4165 - Train Accuracy: 0.8724, Validation Accuracy: 0.8111, Loss: 0.1869\n",
      "Epoch  19 Batch 3000/4165 - Train Accuracy: 0.6987, Validation Accuracy: 0.8395, Loss: 0.3846\n",
      "Epoch  19 Batch 4000/4165 - Train Accuracy: 0.6833, Validation Accuracy: 0.8366, Loss: 0.3750\n",
      "Epoch  20 Batch 1000/4165 - Train Accuracy: 0.5960, Validation Accuracy: 0.8352, Loss: 0.4392\n",
      "Epoch  20 Batch 2000/4165 - Train Accuracy: 0.8906, Validation Accuracy: 0.7798, Loss: 0.1363\n",
      "Epoch  20 Batch 3000/4165 - Train Accuracy: 0.6942, Validation Accuracy: 0.8210, Loss: 0.3776\n",
      "Epoch  20 Batch 4000/4165 - Train Accuracy: 0.6833, Validation Accuracy: 0.8381, Loss: 0.3904\n",
      "Epoch  21 Batch 1000/4165 - Train Accuracy: 0.6049, Validation Accuracy: 0.8494, Loss: 0.4369\n",
      "Epoch  21 Batch 2000/4165 - Train Accuracy: 0.9193, Validation Accuracy: 0.7855, Loss: 0.1498\n",
      "Epoch  21 Batch 3000/4165 - Train Accuracy: 0.7254, Validation Accuracy: 0.7827, Loss: 0.3456\n",
      "Epoch  21 Batch 4000/4165 - Train Accuracy: 0.6917, Validation Accuracy: 0.8494, Loss: 0.3470\n"
     ]
    },
    {
     "name": "stdout",
     "output_type": "stream",
     "text": [
      "Epoch  22 Batch 1000/4165 - Train Accuracy: 0.6027, Validation Accuracy: 0.8366, Loss: 0.4288\n",
      "Epoch  22 Batch 2000/4165 - Train Accuracy: 0.8776, Validation Accuracy: 0.8125, Loss: 0.1197\n",
      "Epoch  22 Batch 3000/4165 - Train Accuracy: 0.7210, Validation Accuracy: 0.7997, Loss: 0.3817\n",
      "Epoch  22 Batch 4000/4165 - Train Accuracy: 0.6979, Validation Accuracy: 0.8438, Loss: 0.3535\n",
      "Epoch  23 Batch 1000/4165 - Train Accuracy: 0.6027, Validation Accuracy: 0.8480, Loss: 0.4193\n",
      "Epoch  23 Batch 2000/4165 - Train Accuracy: 0.9115, Validation Accuracy: 0.8054, Loss: 0.1482\n",
      "Epoch  23 Batch 3000/4165 - Train Accuracy: 0.7656, Validation Accuracy: 0.8182, Loss: 0.3426\n",
      "Epoch  23 Batch 4000/4165 - Train Accuracy: 0.6896, Validation Accuracy: 0.8423, Loss: 0.3624\n",
      "Epoch  24 Batch 1000/4165 - Train Accuracy: 0.6027, Validation Accuracy: 0.8565, Loss: 0.4030\n",
      "Epoch  24 Batch 2000/4165 - Train Accuracy: 0.9453, Validation Accuracy: 0.8111, Loss: 0.1181\n",
      "Epoch  24 Batch 3000/4165 - Train Accuracy: 0.7589, Validation Accuracy: 0.8239, Loss: 0.3332\n",
      "Epoch  24 Batch 4000/4165 - Train Accuracy: 0.7021, Validation Accuracy: 0.8395, Loss: 0.3473\n",
      "Epoch  25 Batch 1000/4165 - Train Accuracy: 0.6027, Validation Accuracy: 0.8580, Loss: 0.4352\n",
      "Epoch  25 Batch 2000/4165 - Train Accuracy: 0.9714, Validation Accuracy: 0.8068, Loss: 0.1185\n",
      "Epoch  25 Batch 3000/4165 - Train Accuracy: 0.7433, Validation Accuracy: 0.7898, Loss: 0.3332\n",
      "Epoch  25 Batch 4000/4165 - Train Accuracy: 0.6917, Validation Accuracy: 0.8409, Loss: 0.3567\n",
      "Epoch  26 Batch 1000/4165 - Train Accuracy: 0.6027, Validation Accuracy: 0.8551, Loss: 0.3795\n",
      "Epoch  26 Batch 2000/4165 - Train Accuracy: 0.9714, Validation Accuracy: 0.8011, Loss: 0.1090\n",
      "Epoch  26 Batch 3000/4165 - Train Accuracy: 0.7522, Validation Accuracy: 0.7940, Loss: 0.3328\n",
      "Epoch  26 Batch 4000/4165 - Train Accuracy: 0.6896, Validation Accuracy: 0.8423, Loss: 0.3214\n",
      "Epoch  27 Batch 1000/4165 - Train Accuracy: 0.6027, Validation Accuracy: 0.8679, Loss: 0.3831\n",
      "Epoch  27 Batch 2000/4165 - Train Accuracy: 0.9557, Validation Accuracy: 0.7855, Loss: 0.0855\n",
      "Epoch  27 Batch 3000/4165 - Train Accuracy: 0.7612, Validation Accuracy: 0.7940, Loss: 0.3238\n",
      "Epoch  27 Batch 4000/4165 - Train Accuracy: 0.6896, Validation Accuracy: 0.8395, Loss: 0.3384\n",
      "Epoch  28 Batch 1000/4165 - Train Accuracy: 0.6027, Validation Accuracy: 0.8551, Loss: 0.3803\n",
      "Epoch  28 Batch 2000/4165 - Train Accuracy: 0.9714, Validation Accuracy: 0.8040, Loss: 0.0959\n",
      "Epoch  28 Batch 3000/4165 - Train Accuracy: 0.7299, Validation Accuracy: 0.7912, Loss: 0.3248\n",
      "Epoch  28 Batch 4000/4165 - Train Accuracy: 0.6854, Validation Accuracy: 0.8395, Loss: 0.3386\n",
      "Epoch  29 Batch 1000/4165 - Train Accuracy: 0.6027, Validation Accuracy: 0.8537, Loss: 0.4032\n",
      "Epoch  29 Batch 2000/4165 - Train Accuracy: 0.9714, Validation Accuracy: 0.7912, Loss: 0.0895\n",
      "Epoch  29 Batch 3000/4165 - Train Accuracy: 0.7768, Validation Accuracy: 0.7983, Loss: 0.3135\n",
      "Epoch  29 Batch 4000/4165 - Train Accuracy: 0.6979, Validation Accuracy: 0.8210, Loss: 0.2936\n",
      "Epoch  30 Batch 1000/4165 - Train Accuracy: 0.6027, Validation Accuracy: 0.8565, Loss: 0.3534\n",
      "Epoch  30 Batch 2000/4165 - Train Accuracy: 0.9714, Validation Accuracy: 0.8125, Loss: 0.0823\n",
      "Epoch  30 Batch 3000/4165 - Train Accuracy: 0.7545, Validation Accuracy: 0.7656, Loss: 0.2913\n",
      "Epoch  30 Batch 4000/4165 - Train Accuracy: 0.6854, Validation Accuracy: 0.8267, Loss: 0.2853\n",
      "Epoch  31 Batch 1000/4165 - Train Accuracy: 0.6027, Validation Accuracy: 0.8423, Loss: 0.4071\n",
      "Epoch  31 Batch 2000/4165 - Train Accuracy: 0.9714, Validation Accuracy: 0.7997, Loss: 0.0896\n",
      "Epoch  31 Batch 3000/4165 - Train Accuracy: 0.7545, Validation Accuracy: 0.7997, Loss: 0.2887\n",
      "Epoch  31 Batch 4000/4165 - Train Accuracy: 0.6854, Validation Accuracy: 0.8111, Loss: 0.3143\n",
      "Epoch  32 Batch 1000/4165 - Train Accuracy: 0.6027, Validation Accuracy: 0.8636, Loss: 0.3425\n",
      "Epoch  32 Batch 2000/4165 - Train Accuracy: 0.9714, Validation Accuracy: 0.7841, Loss: 0.0671\n",
      "Epoch  32 Batch 3000/4165 - Train Accuracy: 0.7634, Validation Accuracy: 0.7798, Loss: 0.2966\n",
      "Epoch  32 Batch 4000/4165 - Train Accuracy: 0.6854, Validation Accuracy: 0.8239, Loss: 0.3168\n",
      "Epoch  33 Batch 1000/4165 - Train Accuracy: 0.6116, Validation Accuracy: 0.8608, Loss: 0.3667\n",
      "Epoch  33 Batch 2000/4165 - Train Accuracy: 0.9714, Validation Accuracy: 0.7869, Loss: 0.0890\n",
      "Epoch  33 Batch 3000/4165 - Train Accuracy: 0.7612, Validation Accuracy: 0.8040, Loss: 0.2769\n",
      "Epoch  33 Batch 4000/4165 - Train Accuracy: 0.6875, Validation Accuracy: 0.8196, Loss: 0.3032\n",
      "Epoch  34 Batch 1000/4165 - Train Accuracy: 0.6094, Validation Accuracy: 0.8636, Loss: 0.3695\n",
      "Epoch  34 Batch 2000/4165 - Train Accuracy: 1.0000, Validation Accuracy: 0.7969, Loss: 0.0572\n",
      "Epoch  34 Batch 3000/4165 - Train Accuracy: 0.7612, Validation Accuracy: 0.7614, Loss: 0.3023\n",
      "Epoch  34 Batch 4000/4165 - Train Accuracy: 0.6833, Validation Accuracy: 0.8480, Loss: 0.3101\n",
      "Epoch  35 Batch 1000/4165 - Train Accuracy: 0.5848, Validation Accuracy: 0.8679, Loss: 0.3524\n",
      "Epoch  35 Batch 2000/4165 - Train Accuracy: 0.9870, Validation Accuracy: 0.7685, Loss: 0.0894\n",
      "Epoch  35 Batch 3000/4165 - Train Accuracy: 0.7612, Validation Accuracy: 0.7614, Loss: 0.2556\n",
      "Epoch  35 Batch 4000/4165 - Train Accuracy: 0.6937, Validation Accuracy: 0.8466, Loss: 0.2936\n",
      "Epoch  36 Batch 1000/4165 - Train Accuracy: 0.6094, Validation Accuracy: 0.8651, Loss: 0.3502\n",
      "Epoch  36 Batch 2000/4165 - Train Accuracy: 1.0000, Validation Accuracy: 0.7685, Loss: 0.0539\n",
      "Epoch  36 Batch 3000/4165 - Train Accuracy: 0.7634, Validation Accuracy: 0.7429, Loss: 0.2805\n",
      "Epoch  36 Batch 4000/4165 - Train Accuracy: 0.7042, Validation Accuracy: 0.8452, Loss: 0.2960\n",
      "Epoch  37 Batch 1000/4165 - Train Accuracy: 0.5848, Validation Accuracy: 0.8551, Loss: 0.3661\n",
      "Epoch  37 Batch 2000/4165 - Train Accuracy: 1.0000, Validation Accuracy: 0.7514, Loss: 0.0699\n",
      "Epoch  37 Batch 3000/4165 - Train Accuracy: 0.7656, Validation Accuracy: 0.7486, Loss: 0.2691\n",
      "Epoch  37 Batch 4000/4165 - Train Accuracy: 0.7021, Validation Accuracy: 0.8224, Loss: 0.2833\n",
      "Epoch  38 Batch 1000/4165 - Train Accuracy: 0.5871, Validation Accuracy: 0.8622, Loss: 0.3521\n",
      "Epoch  38 Batch 2000/4165 - Train Accuracy: 0.9870, Validation Accuracy: 0.7670, Loss: 0.0742\n",
      "Epoch  38 Batch 3000/4165 - Train Accuracy: 0.7634, Validation Accuracy: 0.7557, Loss: 0.2978\n",
      "Epoch  38 Batch 4000/4165 - Train Accuracy: 0.6875, Validation Accuracy: 0.8267, Loss: 0.2917\n",
      "Epoch  39 Batch 1000/4165 - Train Accuracy: 0.6094, Validation Accuracy: 0.8509, Loss: 0.3454\n",
      "Epoch  39 Batch 2000/4165 - Train Accuracy: 0.9818, Validation Accuracy: 0.7585, Loss: 0.0592\n",
      "Epoch  39 Batch 3000/4165 - Train Accuracy: 0.7545, Validation Accuracy: 0.7472, Loss: 0.2886\n",
      "Epoch  39 Batch 4000/4165 - Train Accuracy: 0.7021, Validation Accuracy: 0.8295, Loss: 0.2656\n",
      "Model Trained and Saved\n"
     ]
    }
   ],
   "source": [
    "def get_accuracy(target, logits):\n",
    "    \"\"\"\n",
    "    Calculate accuracy\n",
    "    \"\"\"\n",
    "    max_seq = max(target.shape[1], logits.shape[1])\n",
    "    if max_seq - target.shape[1]:\n",
    "        target = np.pad(\n",
    "            target,\n",
    "            [(0,0),(0,max_seq - target.shape[1])],\n",
    "            'constant')\n",
    "    if max_seq - logits.shape[1]:\n",
    "        logits = np.pad(\n",
    "            logits,\n",
    "            [(0,0),(0,max_seq - logits.shape[1])],\n",
    "            'constant')\n",
    "\n",
    "    return np.mean(np.equal(target, logits))\n",
    "\n",
    "# Split data to training and validation sets\n",
    "train_source = source_int_text[batch_size:]\n",
    "train_target = target_int_text[batch_size:]\n",
    "valid_source = source_int_text[:batch_size]\n",
    "valid_target = target_int_text[:batch_size]\n",
    "(valid_sources_batch, valid_targets_batch, valid_sources_lengths, valid_targets_lengths ) = next(get_batches(valid_source,\n",
    "                                                                                                             valid_target,\n",
    "                                                                                                             batch_size,\n",
    "                                                                                                             source_vocab_to_int['<PAD>'],\n",
    "                                                                                                             target_vocab_to_int['<PAD>']))                                                                                                  \n",
    "with tf.Session(graph=train_graph) as sess:\n",
    "    sess.run(tf.global_variables_initializer())\n",
    "\n",
    "    for epoch_i in range(epochs):\n",
    "        for batch_i, (source_batch, target_batch, sources_lengths, targets_lengths) in enumerate(\n",
    "                get_batches(train_source, train_target, batch_size,\n",
    "                            source_vocab_to_int['<PAD>'],\n",
    "                            target_vocab_to_int['<PAD>'])):\n",
    "\n",
    "            _, loss = sess.run(\n",
    "                [train_op, cost],\n",
    "                {input_data: source_batch,\n",
    "                 targets: target_batch,\n",
    "                 lr: learning_rate,\n",
    "                 target_sequence_length: targets_lengths,\n",
    "                 source_sequence_length: sources_lengths,\n",
    "                 keep_prob: keep_probability})\n",
    "\n",
    "\n",
    "            if batch_i % display_step == 0 and batch_i > 0:\n",
    "\n",
    "\n",
    "                batch_train_logits = sess.run(\n",
    "                    inference_logits,\n",
    "                    {input_data: source_batch,\n",
    "                     source_sequence_length: sources_lengths,\n",
    "                     target_sequence_length: targets_lengths,\n",
    "                     keep_prob: 1.0})\n",
    "\n",
    "\n",
    "                batch_valid_logits = sess.run(\n",
    "                    inference_logits,\n",
    "                    {input_data: valid_sources_batch,\n",
    "                     source_sequence_length: valid_sources_lengths,\n",
    "                     target_sequence_length: valid_targets_lengths,\n",
    "                     keep_prob: 1.0})\n",
    "\n",
    "                train_acc = get_accuracy(target_batch, batch_train_logits)\n",
    "\n",
    "                valid_acc = get_accuracy(valid_targets_batch, batch_valid_logits)\n",
    "\n",
    "                print('Epoch {:>3} Batch {:>4}/{} - Train Accuracy: {:>6.4f}, Validation Accuracy: {:>6.4f}, Loss: {:>6.4f}'\n",
    "                      .format(epoch_i, batch_i, len(source_int_text) // batch_size, train_acc, valid_acc, loss))\n",
    "#             else:\n",
    "#                 print(\"Did not evaluate. batch_i = %s, display_step = %s\" % (batch_i, display_step))\n",
    "\n",
    "    # Save Model\n",
    "    saver = tf.train.Saver()\n",
    "    saver.save(sess, save_path)\n",
    "    print('Model Trained and Saved')"
   ]
  },
  {
   "cell_type": "markdown",
   "metadata": {},
   "source": [
    "### Save Parameters\n",
    "Save the `batch_size` and `save_path` parameters for inference."
   ]
  },
  {
   "cell_type": "code",
   "execution_count": 19,
   "metadata": {},
   "outputs": [],
   "source": [
    "# Save parameters for checkpoint\n",
    "helper.save_params(save_path)"
   ]
  },
  {
   "cell_type": "markdown",
   "metadata": {},
   "source": [
    "# Checkpoint"
   ]
  },
  {
   "cell_type": "code",
   "execution_count": 20,
   "metadata": {},
   "outputs": [],
   "source": [
    "import tensorflow as tf\n",
    "import numpy as np\n",
    "import helper\n",
    "import problem_unittests as tests\n",
    "\n",
    "_, (source_vocab_to_int, target_vocab_to_int), (source_int_to_vocab, target_int_to_vocab) = helper.load_preprocess()\n",
    "load_path = helper.load_params()"
   ]
  },
  {
   "cell_type": "markdown",
   "metadata": {},
   "source": [
    "## Sentence to Sequence\n",
    "To feed a sentence into the model for translation, you first need to preprocess it.  Implement the function `sentence_to_seq()` to preprocess new sentences.\n",
    "\n",
    "- Convert the sentence to lowercase\n",
    "- Convert words into ids using `vocab_to_int`\n",
    " - Convert words not in the vocabulary, to the `<UNK>` word id."
   ]
  },
  {
   "cell_type": "code",
   "execution_count": 21,
   "metadata": {},
   "outputs": [
    {
     "name": "stdout",
     "output_type": "stream",
     "text": [
      "Tests Passed\n"
     ]
    }
   ],
   "source": [
    "def sentence_to_seq(sentence, vocab_to_int):\n",
    "    \"\"\"\n",
    "    Convert a sentence to a sequence of ids\n",
    "    :param sentence: String\n",
    "    :param vocab_to_int: Dictionary to go from the words to an id\n",
    "    :return: List of word ids\n",
    "    \"\"\"\n",
    "    word_ids = []\n",
    "    for word in sentence.lower().split():\n",
    "        if word in vocab_to_int:\n",
    "            word_ids.append(vocab_to_int[word])\n",
    "        else:\n",
    "            word_ids.append(vocab_to_int['<UNK>'])\n",
    "    return word_ids\n",
    "\n",
    "\n",
    "tests.test_sentence_to_seq(sentence_to_seq)"
   ]
  },
  {
   "cell_type": "markdown",
   "metadata": {},
   "source": [
    "## Translate\n",
    "This will translate `translate_sentence` from English to French."
   ]
  },
  {
   "cell_type": "code",
   "execution_count": 22,
   "metadata": {},
   "outputs": [
    {
     "name": "stdout",
     "output_type": "stream",
     "text": [
      "INFO:tensorflow:Restoring parameters from checkpoints/dev\n",
      "Input\n",
      "  Character Ids:      [30, 30, 12, 44, 22, 29]\n",
      "  Characters: ['a', 'a', 'c', 'h', 'e', 'n']\n",
      "\n",
      "Prediction\n",
      "  Character Ids:      [21, 43, 10, 15, 11, 31, 1]\n",
      "  Character IPAs: e j ˈ ʧ ʌ n <EOS>\n"
     ]
    }
   ],
   "source": [
    "translate_sentence = 'a a c h e n'\n",
    "translate_sentence = sentence_to_seq(translate_sentence, source_vocab_to_int)\n",
    "\n",
    "loaded_graph = tf.Graph()\n",
    "with tf.Session(graph=loaded_graph) as sess:\n",
    "    # Load saved model\n",
    "    loader = tf.train.import_meta_graph(load_path + '.meta')\n",
    "    loader.restore(sess, load_path)\n",
    "\n",
    "    input_data = loaded_graph.get_tensor_by_name('input:0')\n",
    "    logits = loaded_graph.get_tensor_by_name('predictions:0')\n",
    "    target_sequence_length = loaded_graph.get_tensor_by_name('target_sequence_length:0')\n",
    "    source_sequence_length = loaded_graph.get_tensor_by_name('source_sequence_length:0')\n",
    "    keep_prob = loaded_graph.get_tensor_by_name('keep_prob:0')\n",
    "\n",
    "    translate_logits = sess.run(logits, {input_data: [translate_sentence]*batch_size,\n",
    "                                         target_sequence_length: [len(translate_sentence)*2]*batch_size,\n",
    "                                         source_sequence_length: [len(translate_sentence)]*batch_size,\n",
    "                                         keep_prob: 1.0})[0]\n",
    "\n",
    "print('Input')\n",
    "print('  Character Ids:      {}'.format([i for i in translate_sentence]))\n",
    "print('  Characters: {}'.format([source_int_to_vocab[i] for i in translate_sentence]))\n",
    "\n",
    "print('\\nPrediction')\n",
    "print('  Character Ids:      {}'.format([i for i in translate_logits]))\n",
    "print('  Character IPAs: {}'.format(\" \".join([target_int_to_vocab[i] for i in translate_logits])))\n",
    "\n",
    "\n",
    "# TODO:\n",
    "# 1. More data\n",
    "# 2. Output variable lengths"
   ]
  }
 ],
 "metadata": {
  "anaconda-cloud": {},
  "kernelspec": {
   "display_name": "Python 3",
   "language": "python",
   "name": "python3"
  },
  "language_info": {
   "codemirror_mode": {
    "name": "ipython",
    "version": 3
   },
   "file_extension": ".py",
   "mimetype": "text/x-python",
   "name": "python",
   "nbconvert_exporter": "python",
   "pygments_lexer": "ipython3",
   "version": "3.6.4"
  }
 },
 "nbformat": 4,
 "nbformat_minor": 1
}
